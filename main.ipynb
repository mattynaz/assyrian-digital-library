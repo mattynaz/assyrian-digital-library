{
 "cells": [
  {
   "cell_type": "code",
   "execution_count": null,
   "metadata": {},
   "outputs": [],
   "source": [
    "from dataclasses import dataclass\n",
    "\n",
    "@dataclass\n",
    "class Document:\n",
    "    title: str\n",
    "    author: str\n",
    "    data: str\n"
   ]
  },
  {
   "cell_type": "code",
   "execution_count": 44,
   "metadata": {},
   "outputs": [
    {
     "name": "stdout",
     "output_type": "stream",
     "text": [
      "\n",
      "Search results:\n",
      "SearchResult(title='Assyrian Persian Dictionary', author='John Doe', date='1931', content='hello! I am good. Are you good?', span=(12, 16), location=3)\n",
      "SearchResult(title='Assyrian Persian Dictionary', author='John Doe', date='1931', content=\"good. Are you good? Let's be\", span=(14, 18), location=15)\n",
      "SearchResult(title='Assyrian Persian Dictionary', author='John Doe', date='1931', content='Okay now, good for you. Good!', span=(10, 14), location=52)\n",
      "SearchResult(title='Assyrian Persian Dictionary', author='John Doe', date='1931', content='good for you. Good!', span=(14, 18), location=62)\n"
     ]
    }
   ],
   "source": [
    "import glob\n",
    "import os\n",
    "import re\n",
    "from dataclasses import dataclass\n",
    "\n",
    "@dataclass\n",
    "class Text:\n",
    "    title: str\n",
    "    author: str\n",
    "    date: str\n",
    "    content: str\n",
    "\n",
    "@dataclass\n",
    "class SearchResult:\n",
    "    title: str\n",
    "    author: str\n",
    "    date: str\n",
    "    content: str\n",
    "    span: tuple[int, int]\n",
    "    location: int\n",
    "\n",
    "\n",
    "def parse_filename(filename):\n",
    "    # Split the filename to extract title, author, and year\n",
    "    basename = os.path.basename(filename)\n",
    "    name, _ = os.path.splitext(basename)\n",
    "    parts = name.split('_')\n",
    "    if len(parts) != 3:\n",
    "        raise ValueError(f\"Filename {filename} does not match the expected format 'title_Author_year.md'\")\n",
    "    title, author, date = parts\n",
    "    return title, author, date\n",
    "\n",
    "def glob_and_parse_texts(folder_path):\n",
    "    texts = []\n",
    "    for filepath in glob.glob(os.path.join(folder_path, '*.md')):\n",
    "        try:\n",
    "            title, author, date = parse_filename(filepath)\n",
    "            content = open(filepath).read()\n",
    "            texts.append(Text(title, author, date, content))\n",
    "        except ValueError as e:\n",
    "            print(f\"Skipping file {filepath}: {e}\")\n",
    "    return texts\n",
    "\n",
    "def compile_search_query(query: str) -> re.Pattern:\n",
    "    pattern = rf\"(?<=\\b){query}(?=\\b)\"\n",
    "    return re.compile(pattern, re.IGNORECASE)\n",
    "\n",
    "def search_texts(query: str, texts: list[Text], preview_len: int = 10):\n",
    "    pattern = compile_search_query(query)\n",
    "    results = []\n",
    "    for text in texts:\n",
    "        for match in pattern.finditer(text.content):\n",
    "            # Extract a snippet of text around the match\n",
    "            start = text.content.rfind(' ', 0, max(0, match.start() - preview_len)) + 1\n",
    "            end = text.content.find(' ', match.end() + preview_len)\n",
    "            if end == -1:\n",
    "                end = len(text.content)\n",
    "            content = text.content[start:end]\n",
    "            # Add the search result to the list\n",
    "            span = (match.start() - start, match.end() - start)\n",
    "            results.append(SearchResult(text.title, text.author, text.date, content, span, start))\n",
    "    return results\n",
    "\n",
    "\n",
    "folder_path = './backend/texts'\n",
    "texts = glob_and_parse_texts(folder_path)\n",
    "\n",
    "print(\"\\nSearch results:\")\n",
    "for result in search_texts(\"good\", texts):\n",
    "    print(result)"
   ]
  }
 ],
 "metadata": {
  "kernelspec": {
   "display_name": "venv",
   "language": "python",
   "name": "python3"
  },
  "language_info": {
   "codemirror_mode": {
    "name": "ipython",
    "version": 3
   },
   "file_extension": ".py",
   "mimetype": "text/x-python",
   "name": "python",
   "nbconvert_exporter": "python",
   "pygments_lexer": "ipython3",
   "version": "3.12.4"
  }
 },
 "nbformat": 4,
 "nbformat_minor": 2
}
